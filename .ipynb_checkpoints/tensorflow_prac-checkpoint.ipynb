{
 "cells": [
  {
   "cell_type": "code",
   "execution_count": 1,
   "metadata": {
    "collapsed": true
   },
   "outputs": [],
   "source": [
    "import tensorflow as tf"
   ]
  },
  {
   "cell_type": "code",
   "execution_count": 4,
   "metadata": {
    "collapsed": false
   },
   "outputs": [
    {
     "name": "stdout",
     "output_type": "stream",
     "text": [
      "Tensor(\"add_1:0\", shape=(), dtype=string)\n",
      "helloWorld!\n"
     ]
    }
   ],
   "source": [
    "h = tf.constant(\"hello\")\n",
    "w = tf.constant(\"World!\")\n",
    "hw = h + w\n",
    "\n",
    "with tf.Session() as sess:\n",
    "    ans = sess.run(hw)\n",
    "\n",
    "print hw\n",
    "print (ans)"
   ]
  },
  {
   "cell_type": "code",
   "execution_count": 5,
   "metadata": {
    "collapsed": true
   },
   "outputs": [],
   "source": [
    "from tensorflow.examples.tutorials.mnist import input_data"
   ]
  },
  {
   "cell_type": "code",
   "execution_count": 8,
   "metadata": {
    "collapsed": false
   },
   "outputs": [
    {
     "name": "stdout",
     "output_type": "stream",
     "text": [
      "Extracting /tmp/data/train-images-idx3-ubyte.gz\n",
      "Extracting /tmp/data/train-labels-idx1-ubyte.gz\n",
      "Extracting /tmp/data/t10k-images-idx3-ubyte.gz\n",
      "Extracting /tmp/data/t10k-labels-idx1-ubyte.gz\n",
      "Accuracy: 91.64%\n"
     ]
    }
   ],
   "source": [
    "DATA_DIR = '/tmp/data' \n",
    "NUM_STEPS = 1000 \n",
    "MINIBATCH_SIZE = 100\n",
    "\n",
    "data = input_data.read_data_sets(DATA_DIR, one_hot=True)\n",
    "\n",
    "x = tf.placeholder(tf.float32, [None, 784]) \n",
    "W = tf.Variable(tf.zeros([784, 10]))\n",
    "\n",
    "y_true = tf.placeholder(tf.float32, [None, 10]) \n",
    "y_pred = tf.matmul(x, W)\n",
    "\n",
    "cross_entropy = tf.reduce_mean(tf.nn.softmax_cross_entropy_with_logits( logits=y_pred, labels=y_true))\n",
    "\n",
    "gd_step = tf.train.GradientDescentOptimizer(0.5).minimize(cross_entropy)\n",
    "\n",
    "correct_mask = tf.equal(tf.argmax(y_pred, 1), tf.argmax(y_true, 1)) \n",
    "accuracy = tf.reduce_mean(tf.cast(correct_mask, tf.float32))\n",
    "\n",
    "with tf.Session() as sess:\n",
    "\n",
    "# Train \n",
    "    sess.run(tf.global_variables_initializer())\n",
    "    for _ in range(NUM_STEPS):\n",
    "\n",
    "        batch_xs, batch_ys = data.train.next_batch(MINIBATCH_SIZE) \n",
    "        sess.run(gd_step, feed_dict={x: batch_xs, y_true: batch_ys})\n",
    "\n",
    "# Test \n",
    "    ans = sess.run(accuracy, feed_dict={x: data.test.images, y_true: data.test.labels})\n",
    "\n",
    "print \"Accuracy: {:.4}%\".format(ans*100)\n",
    "batch_xs, batch_ys = data.train.next_batch(MINIBATCH_SIZE)"
   ]
  },
  {
   "cell_type": "code",
   "execution_count": 11,
   "metadata": {
    "collapsed": false
   },
   "outputs": [
    {
     "data": {
      "text/plain": [
       "array([[ 0.,  0.,  0., ...,  0.,  0.,  0.],\n",
       "       [ 0.,  0.,  0., ...,  0.,  0.,  0.],\n",
       "       [ 0.,  0.,  0., ...,  0.,  0.,  0.],\n",
       "       ..., \n",
       "       [ 0.,  0.,  0., ...,  0.,  0.,  0.],\n",
       "       [ 0.,  0.,  0., ...,  0.,  0.,  0.],\n",
       "       [ 0.,  0.,  0., ...,  0.,  0.,  0.]], dtype=float32)"
      ]
     },
     "execution_count": 11,
     "metadata": {},
     "output_type": "execute_result"
    }
   ],
   "source": [
    "batch_xs"
   ]
  },
  {
   "cell_type": "code",
   "execution_count": 15,
   "metadata": {
    "collapsed": false
   },
   "outputs": [
    {
     "data": {
      "text/plain": [
       "<tensorflow.python.framework.ops.Graph at 0x1143f9790>"
      ]
     },
     "execution_count": 15,
     "metadata": {},
     "output_type": "execute_result"
    }
   ],
   "source": [
    "tf.get_default_graph()"
   ]
  },
  {
   "cell_type": "code",
   "execution_count": 13,
   "metadata": {
    "collapsed": true
   },
   "outputs": [],
   "source": [
    "g = tf.Graph()"
   ]
  },
  {
   "cell_type": "code",
   "execution_count": 14,
   "metadata": {
    "collapsed": false
   },
   "outputs": [
    {
     "data": {
      "text/plain": [
       "<tensorflow.python.framework.ops.Graph at 0x1138fab10>"
      ]
     },
     "execution_count": 14,
     "metadata": {},
     "output_type": "execute_result"
    }
   ],
   "source": [
    "g"
   ]
  },
  {
   "cell_type": "code",
   "execution_count": 16,
   "metadata": {
    "collapsed": true
   },
   "outputs": [],
   "source": [
    "a = tf.constant(5)"
   ]
  },
  {
   "cell_type": "code",
   "execution_count": 19,
   "metadata": {
    "collapsed": false
   },
   "outputs": [
    {
     "name": "stdout",
     "output_type": "stream",
     "text": [
      "True\n"
     ]
    }
   ],
   "source": [
    "print a.graph is tf.get_default_graph()"
   ]
  },
  {
   "cell_type": "code",
   "execution_count": 20,
   "metadata": {
    "collapsed": false
   },
   "outputs": [
    {
     "data": {
      "text/plain": [
       "<tf.Tensor 'Const_8:0' shape=() dtype=int32>"
      ]
     },
     "execution_count": 20,
     "metadata": {},
     "output_type": "execute_result"
    }
   ],
   "source": [
    "a"
   ]
  },
  {
   "cell_type": "code",
   "execution_count": 21,
   "metadata": {
    "collapsed": false
   },
   "outputs": [
    {
     "data": {
      "text/plain": [
       "<bound method Tensor.get_shape of <tf.Tensor 'Const_8:0' shape=() dtype=int32>>"
      ]
     },
     "execution_count": 21,
     "metadata": {},
     "output_type": "execute_result"
    }
   ],
   "source": [
    "a.get_shape"
   ]
  },
  {
   "cell_type": "code",
   "execution_count": 22,
   "metadata": {
    "collapsed": false
   },
   "outputs": [
    {
     "data": {
      "text/plain": [
       "TensorShape([])"
      ]
     },
     "execution_count": 22,
     "metadata": {},
     "output_type": "execute_result"
    }
   ],
   "source": [
    "a.get_shape()"
   ]
  },
  {
   "cell_type": "code",
   "execution_count": 24,
   "metadata": {
    "collapsed": false
   },
   "outputs": [
    {
     "data": {
      "text/plain": [
       "<tf.Tensor 'random_normal_1:0' shape=(1, 2, 3) dtype=float32>"
      ]
     },
     "execution_count": 24,
     "metadata": {},
     "output_type": "execute_result"
    }
   ],
   "source": [
    "tf.random_normal([1,2,3],1,1)"
   ]
  },
  {
   "cell_type": "code",
   "execution_count": 25,
   "metadata": {
    "collapsed": false
   },
   "outputs": [
    {
     "data": {
      "text/plain": [
       "array([[[-1.20504832, -0.02504373,  2.66918731,  0.60711992],\n",
       "        [-0.39461422,  0.8239969 ,  0.32991111, -0.25594401],\n",
       "        [ 0.71460396,  2.23706102,  0.6097402 ,  1.79803371]],\n",
       "\n",
       "       [[-0.23368692,  2.12511301,  2.1020174 ,  0.4158501 ],\n",
       "        [-0.31016707,  0.10821837,  1.61651492,  0.47333902],\n",
       "        [ 0.84042984,  1.46195388,  1.38113332,  0.91558087]],\n",
       "\n",
       "       [[ 1.08242714,  1.84535456,  3.37700176,  1.99388766],\n",
       "        [ 1.25587976,  1.90685117,  0.84749371,  0.96148324],\n",
       "        [ 2.28768921,  2.12909293,  1.06924093,  2.25727558]],\n",
       "\n",
       "       [[ 0.2290321 ,  1.20553124,  3.07421994, -0.21391249],\n",
       "        [ 3.96092486, -0.88339078,  0.31001592,  1.25556779],\n",
       "        [ 0.62203777,  0.1814869 ,  1.19971347, -0.6927712 ]],\n",
       "\n",
       "       [[-0.96448946, -0.26027632,  0.01857036, -0.60185754],\n",
       "        [ 0.57336617,  1.24546564,  1.6200937 ,  2.10982227],\n",
       "        [ 1.24621201, -0.39385331,  1.91401005,  1.53784227]],\n",
       "\n",
       "       [[ 1.49239933,  0.65447414,  0.8812502 ,  0.25119054],\n",
       "        [ 1.09697819,  0.75815237, -0.47279763, -0.26716769],\n",
       "        [-0.83169281,  1.64945531,  0.99873549,  2.24403453]],\n",
       "\n",
       "       [[ 1.88308144,  0.29053897, -0.3380636 ,  1.20685935],\n",
       "        [ 0.48995858,  1.91691661, -0.60905969,  3.08878088],\n",
       "        [ 1.24841988,  0.23597103,  0.99839389,  1.58065748]],\n",
       "\n",
       "       [[ 2.7603898 ,  1.17928171,  0.74043554,  3.0404551 ],\n",
       "        [ 1.76365793,  0.37069708,  0.54849297,  0.34144598],\n",
       "        [-0.5008136 ,  2.21832514,  1.66253328,  1.28662455]],\n",
       "\n",
       "       [[ 2.65620041, -0.24963272,  2.38079166, -0.14315653],\n",
       "        [ 1.42675543,  0.35324007,  1.43125892,  0.67331171],\n",
       "        [ 0.70984221,  0.3559165 , -0.20766163,  0.37298411]],\n",
       "\n",
       "       [[ 0.42185783,  2.22857976,  1.89611888,  1.09223044],\n",
       "        [ 1.34423614,  0.74757075,  1.39635634,  2.21161342],\n",
       "        [ 1.57057452,  1.92920828,  0.37267125,  1.16956401]],\n",
       "\n",
       "       [[ 0.90417546,  2.91865063, -0.48984087,  0.58304894],\n",
       "        [ 1.50505137,  1.68909121,  0.89724314,  1.11129427],\n",
       "        [ 1.16787744, -0.95022857,  0.62096131,  3.49923444]],\n",
       "\n",
       "       [[ 0.15920156,  3.17449594,  0.90549302, -1.24026656],\n",
       "        [-0.45170629,  0.10704905, -0.49706161,  1.08867002],\n",
       "        [-0.23399568,  2.60988736,  1.22222769,  0.82004184]]], dtype=float32)"
      ]
     },
     "execution_count": 25,
     "metadata": {},
     "output_type": "execute_result"
    }
   ],
   "source": [
    "sess = tf.InteractiveSession()\n",
    "a = tf.random_normal([12,3,4],1,1)\n",
    "a.eval()"
   ]
  },
  {
   "cell_type": "code",
   "execution_count": 43,
   "metadata": {
    "collapsed": true
   },
   "outputs": [],
   "source": [
    "x = tf.constant([1,0,1], dtype=tf.float32)"
   ]
  },
  {
   "cell_type": "code",
   "execution_count": 44,
   "metadata": {
    "collapsed": false
   },
   "outputs": [],
   "source": [
    "x = tf.expand_dims(x,1)"
   ]
  },
  {
   "cell_type": "code",
   "execution_count": 45,
   "metadata": {
    "collapsed": false
   },
   "outputs": [
    {
     "data": {
      "text/plain": [
       "TensorShape([Dimension(3), Dimension(1)])"
      ]
     },
     "execution_count": 45,
     "metadata": {},
     "output_type": "execute_result"
    }
   ],
   "source": [
    "x.get_shape()"
   ]
  },
  {
   "cell_type": "code",
   "execution_count": 46,
   "metadata": {
    "collapsed": false
   },
   "outputs": [
    {
     "data": {
      "text/plain": [
       "TensorShape([Dimension(3), Dimension(3)])"
      ]
     },
     "execution_count": 46,
     "metadata": {},
     "output_type": "execute_result"
    }
   ],
   "source": [
    "b = tf.random_normal([3,3], 1, 0.1)\n",
    "b.get_shape()"
   ]
  },
  {
   "cell_type": "code",
   "execution_count": 48,
   "metadata": {
    "collapsed": false
   },
   "outputs": [],
   "source": [
    "ans = tf.matmul(b,x)"
   ]
  },
  {
   "cell_type": "code",
   "execution_count": 49,
   "metadata": {
    "collapsed": false
   },
   "outputs": [
    {
     "data": {
      "text/plain": [
       "array([[ 1.85785186],\n",
       "       [ 2.17030048],\n",
       "       [ 1.98704433]], dtype=float32)"
      ]
     },
     "execution_count": 49,
     "metadata": {},
     "output_type": "execute_result"
    }
   ],
   "source": [
    "ans.eval()"
   ]
  },
  {
   "cell_type": "code",
   "execution_count": 50,
   "metadata": {
    "collapsed": true
   },
   "outputs": [],
   "source": [
    "sess.close()"
   ]
  },
  {
   "cell_type": "code",
   "execution_count": 51,
   "metadata": {
    "collapsed": true
   },
   "outputs": [],
   "source": [
    "import numpy as np"
   ]
  },
  {
   "cell_type": "code",
   "execution_count": 61,
   "metadata": {
    "collapsed": false
   },
   "outputs": [],
   "source": [
    "x_data = np.random.randn(2000,3)\n",
    "w_real = [0.5,1,2]\n",
    "b_real = 0.5\n",
    "\n",
    "noise = np.random.randn(1,2000)*0.1\n",
    "y = np.matmul(w_real, x_data.T) + b_real + noise"
   ]
  },
  {
   "cell_type": "code",
   "execution_count": 64,
   "metadata": {
    "collapsed": false
   },
   "outputs": [
    {
     "name": "stdout",
     "output_type": "stream",
     "text": [
      "w:[[ 0.11662052  0.18606593  0.40332079]], b:0.0808756127954\n",
      "w:[[ 0.50543362  1.00196803  1.99985945]], b:0.495489239693\n",
      "w:[[ 0.50543123  1.0019958   1.99988472]], b:0.495509177446\n",
      "w:[[ 0.50543123  1.0019958   1.99988472]], b:0.495509177446\n",
      "w:[[ 0.50543123  1.0019958   1.99988472]], b:0.495509177446\n",
      "w:[[ 0.50543123  1.0019958   1.99988472]], b:0.495509177446\n",
      "w:[[ 0.50543123  1.0019958   1.99988472]], b:0.495509177446\n",
      "w:[[ 0.50543123  1.0019958   1.99988472]], b:0.495509177446\n",
      "w:[[ 0.50543123  1.0019958   1.99988472]], b:0.495509177446\n",
      "w:[[ 0.50543123  1.0019958   1.99988472]], b:0.495509177446\n",
      "w:[[ 0.50543123  1.0019958   1.99988472]], b:0.495509177446\n",
      "w:[[ 0.50543123  1.0019958   1.99988472]], b:0.495509177446\n",
      "w:[[ 0.50543123  1.0019958   1.99988472]], b:0.495509177446\n",
      "w:[[ 0.50543123  1.0019958   1.99988472]], b:0.495509177446\n",
      "w:[[ 0.50543123  1.0019958   1.99988472]], b:0.495509177446\n",
      "w:[[ 0.50543123  1.0019958   1.99988472]], b:0.495509177446\n",
      "w:[[ 0.50543123  1.0019958   1.99988472]], b:0.495509177446\n",
      "w:[[ 0.50543123  1.0019958   1.99988472]], b:0.495509177446\n",
      "w:[[ 0.50543123  1.0019958   1.99988472]], b:0.495509177446\n",
      "w:[[ 0.50543123  1.0019958   1.99988472]], b:0.495509177446\n",
      "w:[[ 0.50543123  1.0019958   1.99988472]], b:0.495509177446\n",
      "w:[[ 0.50543123  1.0019958   1.99988472]], b:0.495509177446\n",
      "w:[[ 0.50543123  1.0019958   1.99988472]], b:0.495509177446\n",
      "w:[[ 0.50543123  1.0019958   1.99988472]], b:0.495509177446\n",
      "w:[[ 0.50543123  1.0019958   1.99988472]], b:0.495509177446\n",
      "w:[[ 0.50543123  1.0019958   1.99988472]], b:0.495509177446\n",
      "w:[[ 0.50543123  1.0019958   1.99988472]], b:0.495509177446\n",
      "w:[[ 0.50543123  1.0019958   1.99988472]], b:0.495509177446\n",
      "w:[[ 0.50543123  1.0019958   1.99988472]], b:0.495509177446\n",
      "w:[[ 0.50543123  1.0019958   1.99988472]], b:0.495509177446\n",
      "w:[[ 0.50543123  1.0019958   1.99988472]], b:0.495509177446\n",
      "w:[[ 0.50543123  1.0019958   1.99988472]], b:0.495509177446\n",
      "w:[[ 0.50543123  1.0019958   1.99988472]], b:0.495509177446\n",
      "w:[[ 0.50543123  1.0019958   1.99988472]], b:0.495509177446\n",
      "w:[[ 0.50543123  1.0019958   1.99988472]], b:0.495509177446\n",
      "w:[[ 0.50543123  1.0019958   1.99988472]], b:0.495509177446\n",
      "w:[[ 0.50543123  1.0019958   1.99988472]], b:0.495509177446\n",
      "w:[[ 0.50543123  1.0019958   1.99988472]], b:0.495509177446\n",
      "w:[[ 0.50543123  1.0019958   1.99988472]], b:0.495509177446\n",
      "w:[[ 0.50543123  1.0019958   1.99988472]], b:0.495509177446\n"
     ]
    }
   ],
   "source": [
    "x = tf.placeholder(tf.float32, [None, 3])\n",
    "y_real = tf.placeholder(tf.float32, None)\n",
    "\n",
    "w = tf.Variable([[0,0,0]], dtype = tf.float32, name = 'weight')\n",
    "b = tf.Variable(0, dtype = tf.float32, name = 'bias')\n",
    "\n",
    "y_pred = tf.matmul(w, tf.transpose(x)) + b\n",
    "loss = tf.reduce_mean(tf.square(y_pred - y_real))\n",
    "\n",
    "optimizer = tf.train.GradientDescentOptimizer(0.1)\n",
    "train = optimizer.minimize(loss)\n",
    "\n",
    "with tf.Session() as sess:\n",
    "    sess.run(tf.global_variables_initializer())\n",
    "    \n",
    "    for step in range(2000):\n",
    "        sess.run(train, feed_dict={x:x_data, y_real:y})\n",
    "        \n",
    "        if step % 50 == 0:\n",
    "            w_now, b_now = sess.run([w,b])\n",
    "            print \"w:{}, b:{}\".format(w_now, b_now)\n",
    "            \n",
    "        \n"
   ]
  },
  {
   "cell_type": "code",
   "execution_count": 69,
   "metadata": {
    "collapsed": false
   },
   "outputs": [
    {
     "data": {
      "text/plain": [
       "array([7, 4])"
      ]
     },
     "execution_count": 69,
     "metadata": {},
     "output_type": "execute_result"
    }
   ],
   "source": [
    "np.random.binomial(10,[0.5,0.2])"
   ]
  },
  {
   "cell_type": "code",
   "execution_count": 71,
   "metadata": {
    "collapsed": false
   },
   "outputs": [
    {
     "ename": "IndentationError",
     "evalue": "expected an indented block (<ipython-input-71-678961f8f2e2>, line 7)",
     "output_type": "error",
     "traceback": [
      "\u001b[0;36m  File \u001b[0;32m\"<ipython-input-71-678961f8f2e2>\"\u001b[0;36m, line \u001b[0;32m7\u001b[0m\n\u001b[0;31m    def sigmoid(x):\u001b[0m\n\u001b[0m                   ^\u001b[0m\n\u001b[0;31mIndentationError\u001b[0m\u001b[0;31m:\u001b[0m expected an indented block\n"
     ]
    }
   ],
   "source": [
    "x_data = np.random.randn(5000,3)\n",
    "w_real = [0.3, 0.5, 1]\n",
    "b_real = -0.2\n",
    "\n",
    "wxb = np.matmul(w_real, x_data.T) + b_real\n",
    "\n",
    "def sigmoid(x):"
   ]
  },
  {
   "cell_type": "code",
   "execution_count": null,
   "metadata": {
    "collapsed": true
   },
   "outputs": [],
   "source": []
  }
 ],
 "metadata": {
  "kernelspec": {
   "display_name": "Python 2",
   "language": "python",
   "name": "python2"
  },
  "language_info": {
   "codemirror_mode": {
    "name": "ipython",
    "version": 2
   },
   "file_extension": ".py",
   "mimetype": "text/x-python",
   "name": "python",
   "nbconvert_exporter": "python",
   "pygments_lexer": "ipython2",
   "version": "2.7.13"
  }
 },
 "nbformat": 4,
 "nbformat_minor": 2
}
